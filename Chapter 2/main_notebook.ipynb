{
 "cells": [
  {
   "cell_type": "code",
   "execution_count": 3,
   "id": "276b6949-fed5-4ccf-94c6-4630a6f3f08c",
   "metadata": {},
   "outputs": [],
   "source": [
    "%load_ext autoreload\n",
    "%autoreload 2"
   ]
  },
  {
   "cell_type": "code",
   "execution_count": 4,
   "id": "2f1ab9e2-5f25-48a8-8718-e284b67f9d20",
   "metadata": {},
   "outputs": [],
   "source": [
    "import sys\n",
    "sys.path.append('math_pipeline/')"
   ]
  },
  {
   "cell_type": "code",
   "execution_count": 5,
   "id": "26ea429a-4105-43cb-8f07-c01d0864223d",
   "metadata": {},
   "outputs": [],
   "source": [
    "import pandas as pd\n",
    "import numpy as np\n",
    "\n",
    "import start_experiment"
   ]
  },
  {
   "cell_type": "code",
   "execution_count": null,
   "id": "638e0917-8fcf-4a2e-af4c-1111b5e589ca",
   "metadata": {},
   "outputs": [
    {
     "data": {
      "application/vnd.jupyter.widget-view+json": {
       "model_id": "3a60e4d39b92442d9ebd4acba13b5eb3",
       "version_major": 2,
       "version_minor": 0
      },
      "text/plain": [
       "Loading checkpoint shards:   0%|          | 0/2 [00:00<?, ?it/s]"
      ]
     },
     "metadata": {},
     "output_type": "display_data"
    },
    {
     "name": "stderr",
     "output_type": "stream",
     "text": [
      "100%|██████████| 36/36 [14:16<00:00, 23.79s/it]\n",
      "100%|██████████| 36/36 [09:36<00:00, 16.02s/it]\n",
      "100%|██████████| 36/36 [13:49<00:00, 23.03s/it]\n",
      "100%|██████████| 36/36 [13:49<00:00, 23.05s/it]\n",
      "100%|██████████| 36/36 [13:49<00:00, 23.03s/it]\n"
     ]
    },
    {
     "name": "stdout",
     "output_type": "stream",
     "text": [
      "agent_0    0.661111\n",
      "agent_1    0.733333\n",
      "agent_2    0.705556\n",
      "agent_3    0.722222\n",
      "agent_4    0.727778\n",
      "dtype: float64 Max possible accuracy 0.9\n"
     ]
    },
    {
     "name": "stderr",
     "output_type": "stream",
     "text": [
      "  7%|▋         | 13/180 [02:50<36:02, 12.95s/it]"
     ]
    }
   ],
   "source": [
    "experiment_result = start_experiment.start_all('math_pipeline/config.yaml')"
   ]
  },
  {
   "cell_type": "code",
   "execution_count": 6,
   "id": "0d7dbb74-18db-4444-bc28-93b83a71269b",
   "metadata": {},
   "outputs": [],
   "source": [
    "data_result = pd.read_csv('mistral_final_agent.csv')"
   ]
  },
  {
   "cell_type": "code",
   "execution_count": 8,
   "id": "84e990a1-9ec4-443b-b7d4-d4446bc0d3ca",
   "metadata": {},
   "outputs": [],
   "source": [
    "import json\n",
    "with open('test.json', 'r') as f:\n",
    "    test = json.load(f)"
   ]
  },
  {
   "cell_type": "code",
   "execution_count": 9,
   "id": "1032e754-03f6-4628-a5ba-12561795fa4b",
   "metadata": {},
   "outputs": [],
   "source": [
    "answers = [int(element['final_ans']) for element in test]"
   ]
  },
  {
   "cell_type": "code",
   "execution_count": 7,
   "id": "c2842b97-7e96-43f9-bc5e-2881cdd40961",
   "metadata": {},
   "outputs": [
    {
     "data": {
      "text/html": [
       "<div>\n",
       "<style scoped>\n",
       "    .dataframe tbody tr th:only-of-type {\n",
       "        vertical-align: middle;\n",
       "    }\n",
       "\n",
       "    .dataframe tbody tr th {\n",
       "        vertical-align: top;\n",
       "    }\n",
       "\n",
       "    .dataframe thead th {\n",
       "        text-align: right;\n",
       "    }\n",
       "</style>\n",
       "<table border=\"1\" class=\"dataframe\">\n",
       "  <thead>\n",
       "    <tr style=\"text-align: right;\">\n",
       "      <th></th>\n",
       "      <th>final_agent</th>\n",
       "    </tr>\n",
       "  </thead>\n",
       "  <tbody>\n",
       "    <tr>\n",
       "      <th>0</th>\n",
       "      <td>13</td>\n",
       "    </tr>\n",
       "    <tr>\n",
       "      <th>1</th>\n",
       "      <td>4</td>\n",
       "    </tr>\n",
       "    <tr>\n",
       "      <th>2</th>\n",
       "      <td>79</td>\n",
       "    </tr>\n",
       "    <tr>\n",
       "      <th>3</th>\n",
       "      <td>26</td>\n",
       "    </tr>\n",
       "    <tr>\n",
       "      <th>4</th>\n",
       "      <td>72</td>\n",
       "    </tr>\n",
       "    <tr>\n",
       "      <th>...</th>\n",
       "      <td>...</td>\n",
       "    </tr>\n",
       "    <tr>\n",
       "      <th>175</th>\n",
       "      <td>15</td>\n",
       "    </tr>\n",
       "    <tr>\n",
       "      <th>176</th>\n",
       "      <td>80</td>\n",
       "    </tr>\n",
       "    <tr>\n",
       "      <th>177</th>\n",
       "      <td>35</td>\n",
       "    </tr>\n",
       "    <tr>\n",
       "      <th>178</th>\n",
       "      <td>34</td>\n",
       "    </tr>\n",
       "    <tr>\n",
       "      <th>179</th>\n",
       "      <td>61</td>\n",
       "    </tr>\n",
       "  </tbody>\n",
       "</table>\n",
       "<p>180 rows × 1 columns</p>\n",
       "</div>"
      ],
      "text/plain": [
       "     final_agent\n",
       "0             13\n",
       "1              4\n",
       "2             79\n",
       "3             26\n",
       "4             72\n",
       "..           ...\n",
       "175           15\n",
       "176           80\n",
       "177           35\n",
       "178           34\n",
       "179           61\n",
       "\n",
       "[180 rows x 1 columns]"
      ]
     },
     "execution_count": 7,
     "metadata": {},
     "output_type": "execute_result"
    }
   ],
   "source": [
    "data_result['true_answer'] = answers\n"
   ]
  },
  {
   "cell_type": "code",
   "execution_count": null,
   "id": "ebd75595-6deb-4031-83f1-4b019435d23a",
   "metadata": {},
   "outputs": [],
   "source": []
  }
 ],
 "metadata": {
  "kernelspec": {
   "display_name": "Python [conda env:.mlspace-env39]",
   "language": "python",
   "name": "conda-env-.mlspace-env39-py"
  },
  "language_info": {
   "codemirror_mode": {
    "name": "ipython",
    "version": 3
   },
   "file_extension": ".py",
   "mimetype": "text/x-python",
   "name": "python",
   "nbconvert_exporter": "python",
   "pygments_lexer": "ipython3",
   "version": "3.9.18"
  }
 },
 "nbformat": 4,
 "nbformat_minor": 5
}
